{
 "cells": [
  {
   "cell_type": "code",
   "execution_count": 1,
   "id": "initial_id",
   "metadata": {
    "ExecuteTime": {
     "end_time": "2024-06-20T18:59:21.422720Z",
     "start_time": "2024-06-20T18:59:20.159094Z"
    }
   },
   "outputs": [],
   "source": [
    "import meshio\n",
    "import meshplot as mp\n",
    "import numpy as np"
   ]
  },
  {
   "cell_type": "code",
   "execution_count": 5,
   "id": "ac4761c8baf4ae32",
   "metadata": {
    "collapsed": false,
    "jupyter": {
     "outputs_hidden": false
    }
   },
   "outputs": [
    {
     "data": {
      "application/vnd.jupyter.widget-view+json": {
       "model_id": "4794b013b88e48a29a197ff1a0db453c",
       "version_major": 2,
       "version_minor": 0
      },
      "text/plain": [
       "Renderer(camera=PerspectiveCamera(children=(DirectionalLight(color='white', intensity=0.6, position=(9.6877007…"
      ]
     },
     "metadata": {},
     "output_type": "display_data"
    }
   ],
   "source": [
    "mesh = meshio.read(\"./result/step_0.vtu\")\n",
    "\n",
    "lagrange_tetra_cells = mesh.cells_dict[\"VTK_LAGRANGE_TETRAHEDRON\"]\n",
    "\n",
    "vtx_nodes = mesh.points[lagrange_tetra_cells[0]]\n",
    "\n",
    "colors = np.array([\n",
    "    [1, 0, 0],  # Red\n",
    "    [1, 0, 0],  # Red\n",
    "    [1, 0, 0],  # Red\n",
    "    [1, 0, 0],  # Red\n",
    "    [0, 0, 1],  # Blue\n",
    "    [0, 0, 1],  # Blue\n",
    "    [0, 0, 1],  # Blue\n",
    "    [0, 0, 1],  # Blue\n",
    "    [0, 0, 1],  # Blue\n",
    "    [0, 0, 1]   # Blue\n",
    "])\n",
    "\n",
    "\n",
    "p = mp.plot(vtx_nodes, c=colors, shading={\"point_size\": 0.1})"
   ]
  },
  {
   "cell_type": "code",
   "execution_count": null,
   "id": "8fb28af7-b990-4dcb-860d-65990fadbc40",
   "metadata": {},
   "outputs": [],
   "source": [
    "mesh = meshio.read(\"./result/step_0.vtu\")\n",
    "\n",
    "lagrange_tetra_cells = mesh.cells_dict[\"VTK_LAGRANGE_TETRAHEDRON\"]\n",
    "\n",
    "vtx_nodes = mesh.points[lagrange_tetra_cells[:, 4]]\n",
    "\n",
    "colors = np.array([\n",
    "    [1, 0, 0],  # Red\n",
    "    [1, 0, 0],  # Red\n",
    "    [1, 0, 0],  # Red\n",
    "    [1, 0, 0],  # Red\n",
    "    [0, 0, 1],  # Blue\n",
    "    [0, 0, 1],  # Blue\n",
    "    [0, 0, 1],  # Blue\n",
    "    [0, 0, 1],  # Blue\n",
    "    [0, 0, 1],  # Blue\n",
    "    [0, 0, 1]   # Blue\n",
    "])\n",
    "\n",
    "\n",
    "p = mp.plot(vtx_nodes, c=colors, shading={\"point_size\": 0.1})"
   ]
  },
  {
   "cell_type": "code",
   "execution_count": null,
   "id": "1ad246e2-89dc-4876-b531-76be69f34dcb",
   "metadata": {},
   "outputs": [],
   "source": []
  }
 ],
 "metadata": {
  "kernelspec": {
   "display_name": "Python 3 (ipykernel)",
   "language": "python",
   "name": "python3"
  },
  "language_info": {
   "codemirror_mode": {
    "name": "ipython",
    "version": 3
   },
   "file_extension": ".py",
   "mimetype": "text/x-python",
   "name": "python",
   "nbconvert_exporter": "python",
   "pygments_lexer": "ipython3",
   "version": "3.9.18"
  }
 },
 "nbformat": 4,
 "nbformat_minor": 5
}
