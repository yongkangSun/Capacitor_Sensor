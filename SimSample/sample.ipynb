{
 "cells": [
  {
   "cell_type": "code",
   "execution_count": 22,
   "id": "initial_id",
   "metadata": {
    "ExecuteTime": {
     "end_time": "2024-06-25T03:13:37.599473Z",
     "start_time": "2024-06-25T03:13:37.555925Z"
    }
   },
   "outputs": [],
   "source": [
    "import meshio\n",
    "import trimesh\n",
    "import meshplot as mp\n",
    "import numpy as np\n",
    "import igl"
   ]
  },
  {
   "cell_type": "code",
   "execution_count": 2,
   "id": "ac4761c8baf4ae32",
   "metadata": {
    "ExecuteTime": {
     "end_time": "2024-06-25T03:13:33.664048Z",
     "start_time": "2024-06-25T03:13:33.419380Z"
    },
    "collapsed": false,
    "jupyter": {
     "outputs_hidden": false
    }
   },
   "outputs": [
    {
     "data": {
      "application/vnd.jupyter.widget-view+json": {
       "model_id": "219440cf641b471097129323392f3339",
       "version_major": 2,
       "version_minor": 0
      },
      "text/plain": [
       "Renderer(camera=PerspectiveCamera(children=(DirectionalLight(color='white', intensity=0.6, position=(9.6877007…"
      ]
     },
     "metadata": {},
     "output_type": "display_data"
    }
   ],
   "source": [
    "mesh = meshio.read(\"./result/step_0.vtu\")\n",
    "\n",
    "lagrange_tetra_cells = mesh.cells_dict[\"VTK_LAGRANGE_TETRAHEDRON\"]\n",
    "\n",
    "vtx_nodes = mesh.points[lagrange_tetra_cells[0]]\n",
    "\n",
    "colors = np.array([\n",
    "    [1, 0, 0],  # Red\n",
    "    [1, 0, 0],  # Red\n",
    "    [1, 0, 0],  # Red\n",
    "    [1, 0, 0],  # Red\n",
    "    [0, 0, 1],  # Blue\n",
    "    [0, 0, 1],  # Blue\n",
    "    [0, 0, 1],  # Blue\n",
    "    [0, 0, 1],  # Blue\n",
    "    [0, 0, 1],  # Blue\n",
    "    [0, 0, 1]   # Blue\n",
    "])\n",
    "\n",
    "\n",
    "p = mp.plot(vtx_nodes, c=colors, shading={\"point_size\": 0.1})"
   ]
  },
  {
   "cell_type": "code",
   "execution_count": null,
   "id": "8fb28af7-b990-4dcb-860d-65990fadbc40",
   "metadata": {},
   "outputs": [],
   "source": [
    "mesh = meshio.read(\"./result/step_0.vtu\")\n",
    "\n",
    "lagrange_tetra_cells = mesh.cells_dict[\"VTK_LAGRANGE_TETRAHEDRON\"]\n",
    "\n",
    "vtx_nodes = mesh.points[lagrange_tetra_cells[:, 4]]\n",
    "\n",
    "colors = np.array([\n",
    "    [1, 0, 0],  # Red\n",
    "    [1, 0, 0],  # Red\n",
    "    [1, 0, 0],  # Red\n",
    "    [1, 0, 0],  # Red\n",
    "    [0, 0, 1],  # Blue\n",
    "    [0, 0, 1],  # Blue\n",
    "    [0, 0, 1],  # Blue\n",
    "    [0, 0, 1],  # Blue\n",
    "    [0, 0, 1],  # Blue\n",
    "    [0, 0, 1]   # Blue\n",
    "])\n",
    "\n",
    "\n",
    "p = mp.plot(vtx_nodes, c=colors, shading={\"point_size\": 0.1})"
   ]
  },
  {
   "cell_type": "code",
   "execution_count": 44,
   "id": "1ad246e2-89dc-4876-b531-76be69f34dcb",
   "metadata": {},
   "outputs": [
    {
     "data": {
      "application/vnd.jupyter.widget-view+json": {
       "model_id": "40e28d9e685d4faa8452cf5075c328c8",
       "version_major": 2,
       "version_minor": 0
      },
      "text/plain": [
       "Renderer(camera=PerspectiveCamera(children=(DirectionalLight(color='white', intensity=0.6, position=(0.0, -0.0…"
      ]
     },
     "metadata": {},
     "output_type": "display_data"
    },
    {
     "data": {
      "application/vnd.jupyter.widget-view+json": {
       "model_id": "592217c66162498ea0603b7ecbdb7304",
       "version_major": 2,
       "version_minor": 0
      },
      "text/plain": [
       "Renderer(camera=PerspectiveCamera(children=(DirectionalLight(color='white', intensity=0.6, position=(0.0, -0.0…"
      ]
     },
     "metadata": {},
     "output_type": "display_data"
    },
    {
     "data": {
      "text/plain": [
       "<meshplot.Viewer.Viewer at 0x1471d9ac0>"
      ]
     },
     "execution_count": 44,
     "metadata": {},
     "output_type": "execute_result"
    }
   ],
   "source": [
    "obj_path = \"./Data/sheet_1.obj\"\n",
    "off_path = \"./Data/sheet_1.off\"\n",
    "\n",
    "vertices, faces = igl.read_triangle_mesh(obj_path)\n",
    "mp.plot(vertices, faces, shading = {\"wireframe\":True})\n",
    "\n",
    "mesh = meshio.read(obj_path)\n",
    "meshio.write(off_path, mesh)\n",
    "\n",
    "vertices, faces = igl.read_triangle_mesh(off_path)\n",
    "mp.plot(vertices, faces, shading = {\"wireframe\":True})"
   ]
  },
  {
   "cell_type": "code",
   "execution_count": 46,
   "id": "9e6f152e-d926-4723-8743-1939285eeadc",
   "metadata": {},
   "outputs": [
    {
     "data": {
      "application/vnd.jupyter.widget-view+json": {
       "model_id": "f0a7af3fb7da4575b030a08a253b09e3",
       "version_major": 2,
       "version_minor": 0
      },
      "text/plain": [
       "Renderer(camera=PerspectiveCamera(children=(DirectionalLight(color='white', intensity=0.6, position=(0.0, -0.0…"
      ]
     },
     "metadata": {},
     "output_type": "display_data"
    },
    {
     "data": {
      "text/plain": [
       "<meshplot.Viewer.Viewer at 0x14735c250>"
      ]
     },
     "execution_count": 46,
     "metadata": {},
     "output_type": "execute_result"
    }
   ],
   "source": [
    "vertices, faces = igl.read_triangle_mesh(\"./Data/sheet_1_remesh.off\")\n",
    "mp.plot(vertices, faces, shading = {\"wireframe\":True})"
   ]
  },
  {
   "cell_type": "code",
   "execution_count": 35,
   "id": "bd01101b-a59c-45ff-93e6-684d7feb3a22",
   "metadata": {},
   "outputs": [
    {
     "name": "stdout",
     "output_type": "stream",
     "text": [
      "(4132, 3)\n"
     ]
    },
    {
     "data": {
      "application/vnd.jupyter.widget-view+json": {
       "model_id": "58fdb2f0bfe94ce2a852a8f7803377fa",
       "version_major": 2,
       "version_minor": 0
      },
      "text/plain": [
       "Renderer(camera=PerspectiveCamera(children=(DirectionalLight(color='white', intensity=0.6, position=(0.0, 0.04…"
      ]
     },
     "metadata": {},
     "output_type": "display_data"
    },
    {
     "data": {
      "text/plain": [
       "<meshplot.Viewer.Viewer at 0x147186ee0>"
      ]
     },
     "execution_count": 35,
     "metadata": {},
     "output_type": "execute_result"
    }
   ],
   "source": [
    "vertices, faces = igl.read_triangle_mesh(\"./sheet2.off\")\n",
    "\n",
    "print(vertices.shape)\n",
    "\n",
    "special_triangle_indices = [119, 123, 12]\n",
    "colors = np.full((faces.shape[0], 3), [1, 1, 0])\n",
    "\n",
    "for i, face in enumerate(faces):\n",
    "    if all(np.isin(face, special_triangle_indices)):\n",
    "        colors[i] = [1, 0, 0]\n",
    "\n",
    "mp.plot(vertices, faces, c=colors, shading = {\"wireframe\":True})"
   ]
  }
 ],
 "metadata": {
  "kernelspec": {
   "display_name": "Python 3 (ipykernel)",
   "language": "python",
   "name": "python3"
  },
  "language_info": {
   "codemirror_mode": {
    "name": "ipython",
    "version": 3
   },
   "file_extension": ".py",
   "mimetype": "text/x-python",
   "name": "python",
   "nbconvert_exporter": "python",
   "pygments_lexer": "ipython3",
   "version": "3.9.18"
  }
 },
 "nbformat": 4,
 "nbformat_minor": 5
}
